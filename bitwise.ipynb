{
  "metadata": {
    "language_info": {
      "codemirror_mode": {
        "name": "python",
        "version": 3
      },
      "file_extension": ".py",
      "mimetype": "text/x-python",
      "name": "python",
      "nbconvert_exporter": "python",
      "pygments_lexer": "ipython3",
      "version": "3.8"
    },
    "kernelspec": {
      "name": "python",
      "display_name": "Python (Pyodide)",
      "language": "python"
    }
  },
  "nbformat_minor": 4,
  "nbformat": 4,
  "cells": [
    {
      "cell_type": "code",
      "source": "n = 10\nprint(f\"n (dec) = {n}\")\nprint(f\"n (bin) = {bin(n)}\")",
      "metadata": {
        "trusted": true
      },
      "execution_count": 7,
      "outputs": [
        {
          "name": "stdout",
          "text": "n (dec) = 10\nn (bin) = 0b1010\n",
          "output_type": "stream"
        }
      ]
    },
    {
      "cell_type": "code",
      "source": "n = 100\nprint(f\"n (dec) = {n}\")\nprint(f\"n (bin) = {bin(n)}\")",
      "metadata": {
        "trusted": true
      },
      "execution_count": 8,
      "outputs": [
        {
          "name": "stdout",
          "text": "n (dec) = 100\nn (bin) = 0b1100100\n",
          "output_type": "stream"
        }
      ]
    },
    {
      "cell_type": "code",
      "source": "# Left shift operator  <<\n# It shifts all bits in the operand towards left\n# it's a binary operator\n# operand << number\n# when the bits are shifted towards left, \n# blank spaces are always added on the right side which are padded with zero",
      "metadata": {
        "trusted": true
      },
      "execution_count": 10,
      "outputs": []
    },
    {
      "cell_type": "code",
      "source": "n = 10\nprint(f\"n (dec) = {n}\")\nprint(f\"n (bin) = {bin(n)}\")\nn  = n << 1\nprint(f\"n (dec) = {n}\")\nprint(f\"n (bin) = {bin(n)}\")",
      "metadata": {
        "trusted": true
      },
      "execution_count": 13,
      "outputs": [
        {
          "name": "stdout",
          "text": "n (dec) = 10\nn (bin) = 0b1010\nn (dec) = 20\nn (bin) = 0b10100\n",
          "output_type": "stream"
        }
      ]
    },
    {
      "cell_type": "code",
      "source": "n = 10\nprint(f\"n (dec) = {n}\")\nprint(f\"n (bin) = {bin(n)}\")\nn  = n << 2\nprint(f\"n (dec) = {n}\")\nprint(f\"n (bin) = {bin(n)}\")",
      "metadata": {
        "trusted": true
      },
      "execution_count": 16,
      "outputs": [
        {
          "name": "stdout",
          "text": "n (dec) = 10\nn (bin) = 0b1010\nn (dec) = 40\nn (bin) = 0b101000\n",
          "output_type": "stream"
        }
      ]
    },
    {
      "cell_type": "code",
      "source": "# Right shift operator  >>\n# It shifts all bits in the operand towards right\n# it's a binary operator\n# operand >> number\n# The second operand determines by how many position the bits are to be shifted\n# when the bits are shifted towards left, \n# blank spaces are always added on the left side ",
      "metadata": {},
      "execution_count": null,
      "outputs": []
    },
    {
      "cell_type": "code",
      "source": "n = 10\nprint(f\"n (dec) = {n}\")\nprint(f\"n (bin) = {bin(n)}\")\nn  = n >> 1\nprint(f\"n (dec) = {n}\")\nprint(f\"n (bin) = {bin(n)}\")",
      "metadata": {
        "trusted": true
      },
      "execution_count": 17,
      "outputs": [
        {
          "name": "stdout",
          "text": "n (dec) = 10\nn (bin) = 0b1010\nn (dec) = 5\nn (bin) = 0b101\n",
          "output_type": "stream"
        }
      ]
    },
    {
      "cell_type": "code",
      "source": "n = 100\nprint(f\"n (dec) = {n}\")\nprint(f\"n (bin) = {bin(n)}\")\nn  = n >> 2\nprint(f\"n (dec) = {n}\")\nprint(f\"n (bin) = {bin(n)}\")",
      "metadata": {
        "trusted": true
      },
      "execution_count": 22,
      "outputs": [
        {
          "name": "stdout",
          "text": "n (dec) = 100\nn (bin) = 0b1100100\nn (dec) = 25\nn (bin) = 0b11001\n",
          "output_type": "stream"
        }
      ]
    },
    {
      "cell_type": "code",
      "source": "n = -100\nprint(f\"n (dec) = {n}\")\nprint(f\"n (bin) = {bin(n)}\")\nn  = n >> 2\nprint(f\"n (dec) = {n}\")\nprint(f\"n (bin) = {bin(n)}\")",
      "metadata": {
        "trusted": true
      },
      "execution_count": 21,
      "outputs": [
        {
          "name": "stdout",
          "text": "n (dec) = -100\nn (bin) = -0b1100100\nn (dec) = -25\nn (bin) = -0b11001\n",
          "output_type": "stream"
        }
      ]
    },
    {
      "cell_type": "code",
      "source": "# Bitwise Exclusive Or  (xor)",
      "metadata": {},
      "execution_count": null,
      "outputs": []
    },
    {
      "cell_type": "code",
      "source": "n = 100\nm = 5\nprint(f\"n (dec) = {n}\")\nprint(f\"n (bin) = {bin(n)}\")\nprint(f\"m (dec) = {m}\")\nprint(f\"m (bin) = {bin(m)}\")\nn  = n ^ m\nprint(f\"n (dec) = {n}\")\nprint(f\"n (bin) = {bin(n)}\")",
      "metadata": {
        "trusted": true
      },
      "execution_count": 24,
      "outputs": [
        {
          "name": "stdout",
          "text": "n (dec) = 100\nn (bin) = 0b1100100\nm (dec) = 5\nm (bin) = 0b101\nn (dec) = 97\nn (bin) = 0b1100001\n",
          "output_type": "stream"
        }
      ]
    },
    {
      "cell_type": "code",
      "source": "# Bitwise Inversion (~)",
      "metadata": {},
      "execution_count": null,
      "outputs": []
    },
    {
      "cell_type": "code",
      "source": "n = -10\nprint(f\"n (dec) = {n}\")\nprint(f\"n (bin) = {bin(n)}\")\nn = ~n\nprint(n)\nprint(f\"n (dec) = {n}\")\nprint(f\"n (bin) = {bin(n)}\")",
      "metadata": {
        "trusted": true
      },
      "execution_count": 28,
      "outputs": [
        {
          "name": "stdout",
          "text": "n (dec) = -10\nn (bin) = -0b1010\n9\nn (dec) = 9\nn (bin) = 0b1001\n",
          "output_type": "stream"
        }
      ]
    },
    {
      "cell_type": "code",
      "source": "# Bitwise And (&)\n\t1100100\n\t0000101\n\t_______ &\n\t0000100   (4)\n    \n# 0 & anything is zero\n# 1 & 1 is 1\n# if we & a bit with 0; the result is 0",
      "metadata": {},
      "execution_count": null,
      "outputs": []
    },
    {
      "cell_type": "code",
      "source": "n = 100\nm = 5\nprint(f\"n (dec) = {n}\")\nprint(f\"n (bin) = {bin(n)}\")\nprint(f\"m (dec) = {m}\")\nprint(f\"m (bin) = {bin(m)}\")\nx = n & m\nprint(f\"x (dec) = {x}\")\nprint(f\"x (bin) = {bin(x)}\")",
      "metadata": {
        "trusted": true
      },
      "execution_count": 30,
      "outputs": [
        {
          "name": "stdout",
          "text": "n (dec) = 100\nn (bin) = 0b1100100\nm (dec) = 5\nm (bin) = 0b101\nx (dec) = 4\nx (bin) = 0b100\n",
          "output_type": "stream"
        }
      ]
    },
    {
      "cell_type": "code",
      "source": "# Bitwise Or (|)\n\t1100100\n\t0000101\n\t_______ |\n\t1100101   (101)\n    \n# 1 | anything is 1\n# 0 | 0 is 0\n# If we or a bit with 1 the result is 1",
      "metadata": {},
      "execution_count": null,
      "outputs": []
    },
    {
      "cell_type": "code",
      "source": "n = 100\nm = 5\nprint(f\"n (dec) = {n}\")\nprint(f\"n (bin) = {bin(n)}\")\nprint(f\"m (dec) = {m}\")\nprint(f\"m (bin) = {bin(m)}\")\nx = n | m\nprint(f\"x (dec) = {x}\")\nprint(f\"x (bin) = {bin(x)}\")",
      "metadata": {
        "trusted": true
      },
      "execution_count": 31,
      "outputs": [
        {
          "name": "stdout",
          "text": "n (dec) = 100\nn (bin) = 0b1100100\nm (dec) = 5\nm (bin) = 0b101\nx (dec) = 101\nx (bin) = 0b1100101\n",
          "output_type": "stream"
        }
      ]
    },
    {
      "cell_type": "code",
      "source": "",
      "metadata": {},
      "execution_count": null,
      "outputs": []
    }
  ]
}