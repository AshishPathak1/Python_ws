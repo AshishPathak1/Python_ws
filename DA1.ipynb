{
 "cells": [
  {
   "cell_type": "code",
   "execution_count": 1,
   "id": "6c03338b",
   "metadata": {},
   "outputs": [
    {
     "name": "stdout",
     "output_type": "stream",
     "text": [
      "  Company Name Model Name Fuel Type Body style Car Length\n",
      "0       Toyota    Corolla    Petrol      Sedan     4620mm\n",
      "1        Honda      Civic       Gas      Sedan     4648mm\n",
      "2      Hyundai        i20    Petrol  Hatchback     3995mm\n",
      "3          Kia     Seltos    Diesel        SUV     4315mm\n",
      "4        Tesla    Model 3        EV      Sedan     4690mm\n",
      "5         Ford    Mustang    Petrol      Coupe     4788mm\n",
      "  Company Name Model Name  On-road pricing  Loan amount  Monthly EMI   \n",
      "0       Toyota    Corolla            20000        16000          320  \\\n",
      "1        Honda      Civic            22000        18000          360   \n",
      "2      Hyundai        i20            15000        12000          240   \n",
      "3          Kia     Seltos            25000        20000          400   \n",
      "4        Tesla    Model 3            40000        32000          640   \n",
      "5         Ford    Mustang            30000        24000          480   \n",
      "\n",
      "   Interest Rate Monthly Principal Monthly Interest  \n",
      "0          0.050          Rs266.67          Rs53.33  \n",
      "1          0.060          Rs300.00          Rs60.00  \n",
      "2          0.040          Rs200.00          Rs40.00  \n",
      "3          0.070          Rs333.33          Rs66.67  \n",
      "4          0.030          Rs533.33         Rs106.67  \n",
      "5          0.055          Rs400.00          Rs80.00  \n",
      "  Company Name Model Name Fuel Type Body style Car Length  On-road pricing   \n",
      "0       Toyota    Corolla    Petrol      Sedan     4620mm            20000  \\\n",
      "1        Honda      Civic       Gas      Sedan     4648mm            22000   \n",
      "2      Hyundai        i20    Petrol  Hatchback     3995mm            15000   \n",
      "3          Kia     Seltos    Diesel        SUV     4315mm            25000   \n",
      "4        Tesla    Model 3        EV      Sedan     4690mm            40000   \n",
      "5         Ford    Mustang    Petrol      Coupe     4788mm            30000   \n",
      "\n",
      "   Loan amount  Monthly EMI  Interest Rate Monthly Principal Monthly Interest  \n",
      "0        16000          320          0.050          Rs266.67          Rs53.33  \n",
      "1        18000          360          0.060          Rs300.00          Rs60.00  \n",
      "2        12000          240          0.040          Rs200.00          Rs40.00  \n",
      "3        20000          400          0.070          Rs333.33          Rs66.67  \n",
      "4        32000          640          0.030          Rs533.33         Rs106.67  \n",
      "5        24000          480          0.055          Rs400.00          Rs80.00  \n",
      "  Company Name Model Name Fuel Type Body style Car Length  On-road pricing   \n",
      "0       Toyota    Corolla    Petrol      Sedan     4620mm            23600  \\\n",
      "1        Honda      Civic       Gas      Sedan     4648mm            25960   \n",
      "2      Hyundai        i20    Petrol  Hatchback     3995mm            17700   \n",
      "3          Kia     Seltos    Diesel        SUV     4315mm            29500   \n",
      "4        Tesla    Model 3        EV      Sedan     4690mm            47200   \n",
      "5         Ford    Mustang    Petrol      Coupe     4788mm            35400   \n",
      "\n",
      "   Loan amount  Monthly EMI  Interest Rate Monthly Principal Monthly Interest  \n",
      "0        16000          320          0.050          Rs266.67          Rs53.33  \n",
      "1        18000          360          0.060          Rs300.00          Rs60.00  \n",
      "2        12000          240          0.040          Rs200.00          Rs40.00  \n",
      "3        20000          400          0.070          Rs333.33          Rs66.67  \n",
      "4        32000          640          0.030          Rs533.33         Rs106.67  \n",
      "5        24000          480          0.055          Rs400.00          Rs80.00  \n"
     ]
    }
   ],
   "source": [
    "import pandas as pd\n",
    "\n",
    "\n",
    "csv_df = pd.read_csv(\"C:\\\\Users\\\\Ashish Pathak\\\\Downloads\\\\Car_length.csv\")\n",
    "\n",
    "df1 = pd.DataFrame(csv_df)\n",
    "excel_df = pd.read_excel(\"C:\\\\Users\\\\Ashish Pathak\\\\Downloads\\\\Car-info.xlsx\")\n",
    "df2 = pd.DataFrame(excel_df)\n",
    "print(df1)\n",
    "print(df2)\n",
    "# df1.head()\n",
    "# df2.head()\n",
    "merged_df = pd.merge(df1, df2,on = ['Company Name','Model Name'])\n",
    "\n",
    "print(merged_df)\n",
    "\n",
    "default_gst = 0.18  # 18%\n",
    "for index, row in merged_df.iterrows():\n",
    "    on_road_price = row['On-road pricing'] * (1 + default_gst)\n",
    "    merged_df.at[index, 'On-road pricing'] = on_road_price\n",
    "    \n",
    "print(merged_df)\n"
   ]
  },
  {
   "cell_type": "code",
   "execution_count": null,
   "id": "5fac69c7",
   "metadata": {},
   "outputs": [],
   "source": []
  }
 ],
 "metadata": {
  "kernelspec": {
   "display_name": "Python 3 (ipykernel)",
   "language": "python",
   "name": "python3"
  },
  "language_info": {
   "codemirror_mode": {
    "name": "ipython",
    "version": 3
   },
   "file_extension": ".py",
   "mimetype": "text/x-python",
   "name": "python",
   "nbconvert_exporter": "python",
   "pygments_lexer": "ipython3",
   "version": "3.11.3"
  }
 },
 "nbformat": 4,
 "nbformat_minor": 5
}
